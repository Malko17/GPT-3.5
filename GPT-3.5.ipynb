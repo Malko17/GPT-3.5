{
 "cells": [
  {
   "cell_type": "code",
   "execution_count": null,
   "id": "ee6da55b",
   "metadata": {},
   "outputs": [],
   "source": [
    "import openai\n",
    "\n",
    "openai.api_key = \"sk-H46KwtWntM61bUh00WOUT3BIbkFJqQbFrTUY8TiN0IOuvFhL\"\n",
    "\n",
    "output = openai.ChatCompletion.create(\n",
    "model = 'gpt-3.5-turbo', \n",
    "    message = [{'role': 'user', 'content': 'write me a story about human beings and machine in future'}]\n",
    ")"
   ]
  },
  {
   "cell_type": "code",
   "execution_count": 5,
   "id": "348c589f",
   "metadata": {},
   "outputs": [
    {
     "data": {
      "text/plain": [
       "['APIError',\n",
       " 'Audio',\n",
       " 'ChatCompletion',\n",
       " 'Completion',\n",
       " 'ContextVar',\n",
       " 'Customer',\n",
       " 'Deployment',\n",
       " 'Edit',\n",
       " 'Embedding',\n",
       " 'Engine',\n",
       " 'ErrorObject',\n",
       " 'File',\n",
       " 'FineTune',\n",
       " 'Image',\n",
       " 'InvalidRequestError',\n",
       " 'Model',\n",
       " 'Moderation',\n",
       " 'OpenAIError',\n",
       " 'Optional',\n",
       " 'TYPE_CHECKING',\n",
       " '__all__',\n",
       " '__annotations__',\n",
       " '__builtins__',\n",
       " '__cached__',\n",
       " '__doc__',\n",
       " '__file__',\n",
       " '__loader__',\n",
       " '__name__',\n",
       " '__package__',\n",
       " '__path__',\n",
       " '__spec__',\n",
       " 'aiosession',\n",
       " 'api_base',\n",
       " 'api_key',\n",
       " 'api_key_path',\n",
       " 'api_requestor',\n",
       " 'api_resources',\n",
       " 'api_type',\n",
       " 'api_version',\n",
       " 'app_info',\n",
       " 'ca_bundle_path',\n",
       " 'datalib',\n",
       " 'debug',\n",
       " 'enable_telemetry',\n",
       " 'error',\n",
       " 'log',\n",
       " 'openai_object',\n",
       " 'openai_response',\n",
       " 'organization',\n",
       " 'os',\n",
       " 'proxy',\n",
       " 'util',\n",
       " 'verify_ssl_certs',\n",
       " 'version']"
      ]
     },
     "execution_count": 5,
     "metadata": {},
     "output_type": "execute_result"
    }
   ],
   "source": [
    "dir(openai)"
   ]
  },
  {
   "cell_type": "code",
   "execution_count": 75,
   "id": "f39c0f0f",
   "metadata": {},
   "outputs": [
    {
     "data": {
      "text/plain": [
       "openai.api_resources.audio.Audio"
      ]
     },
     "execution_count": 75,
     "metadata": {},
     "output_type": "execute_result"
    }
   ],
   "source": [
    "type(openai.Audio(id=None, api_key=None, api_version=None, api_type=None, organization=None, api_base=None, engine=None,))\n"
   ]
  },
  {
   "cell_type": "code",
   "execution_count": 76,
   "id": "ab8d2252",
   "metadata": {},
   "outputs": [
    {
     "data": {
      "text/plain": [
       "type"
      ]
     },
     "execution_count": 76,
     "metadata": {},
     "output_type": "execute_result"
    }
   ],
   "source": [
    "openai.api_resources.audio.Audio"
   ]
  },
  {
   "cell_type": "code",
   "execution_count": 83,
   "id": "fa597ad9",
   "metadata": {},
   "outputs": [
    {
     "data": {
      "text/plain": [
       "typing._SpecialForm"
      ]
     },
     "execution_count": 83,
     "metadata": {},
     "output_type": "execute_result"
    }
   ],
   "source": [
    "type(\n",
    "    openai.Optional\n",
    ")"
   ]
  },
  {
   "cell_type": "code",
   "execution_count": 77,
   "id": "1e12d15a",
   "metadata": {},
   "outputs": [
    {
     "data": {
      "text/plain": [
       "openai.api_resources.model.Model"
      ]
     },
     "execution_count": 77,
     "metadata": {},
     "output_type": "execute_result"
    }
   ],
   "source": [
    "openai.Model"
   ]
  },
  {
   "cell_type": "code",
   "execution_count": 78,
   "id": "5f58b1e5",
   "metadata": {},
   "outputs": [
    {
     "data": {
      "text/plain": [
       "openai.api_resources.image.Image"
      ]
     },
     "execution_count": 78,
     "metadata": {},
     "output_type": "execute_result"
    }
   ],
   "source": [
    "openai.Image"
   ]
  },
  {
   "cell_type": "code",
   "execution_count": 86,
   "id": "303a2eb9",
   "metadata": {},
   "outputs": [
    {
     "data": {
      "text/plain": [
       "openai.api_resources.fine_tune.FineTune"
      ]
     },
     "execution_count": 86,
     "metadata": {},
     "output_type": "execute_result"
    }
   ],
   "source": [
    "openai.FineTune"
   ]
  },
  {
   "cell_type": "code",
   "execution_count": 87,
   "id": "56f34556",
   "metadata": {},
   "outputs": [
    {
     "data": {
      "text/plain": [
       "openai.api_resources.moderation.Moderation"
      ]
     },
     "execution_count": 87,
     "metadata": {},
     "output_type": "execute_result"
    }
   ],
   "source": [
    "openai.Moderation"
   ]
  },
  {
   "cell_type": "code",
   "execution_count": 89,
   "id": "2c5bbac1",
   "metadata": {},
   "outputs": [
    {
     "data": {
      "text/plain": [
       "openai.error.InvalidRequestError"
      ]
     },
     "execution_count": 89,
     "metadata": {},
     "output_type": "execute_result"
    }
   ],
   "source": [
    "openai.InvalidRequestError"
   ]
  },
  {
   "cell_type": "code",
   "execution_count": 90,
   "id": "5ba6ad85",
   "metadata": {},
   "outputs": [
    {
     "data": {
      "text/plain": [
       "openai.error.InvalidRequestError"
      ]
     },
     "execution_count": 90,
     "metadata": {},
     "output_type": "execute_result"
    }
   ],
   "source": [
    "openai.error.InvalidRequestError"
   ]
  },
  {
   "cell_type": "code",
   "execution_count": 91,
   "id": "727f40ca",
   "metadata": {},
   "outputs": [
    {
     "data": {
      "text/plain": [
       "ContextVar"
      ]
     },
     "execution_count": 91,
     "metadata": {},
     "output_type": "execute_result"
    }
   ],
   "source": [
    "openai.ContextVar"
   ]
  },
  {
   "cell_type": "code",
   "execution_count": 92,
   "id": "d77d03e2",
   "metadata": {},
   "outputs": [
    {
     "data": {
      "text/plain": [
       "openai.api_resources.customer.Customer"
      ]
     },
     "execution_count": 92,
     "metadata": {},
     "output_type": "execute_result"
    }
   ],
   "source": [
    "openai.Customer"
   ]
  },
  {
   "cell_type": "code",
   "execution_count": 100,
   "id": "8938feb1",
   "metadata": {},
   "outputs": [
    {
     "name": "stdout",
     "output_type": "stream",
     "text": [
      "<module 'openai.api_resources' from 'C:\\\\Users\\\\Dr what\\\\anaconda3\\\\lib\\\\site-packages\\\\openai\\\\api_resources\\\\__init__.py'>\n"
     ]
    }
   ],
   "source": [
    "print(openai.api_resources)"
   ]
  },
  {
   "cell_type": "code",
   "execution_count": null,
   "id": "cd784943",
   "metadata": {},
   "outputs": [],
   "source": [
    "# Print out the whole output dictionary\n",
    "print(output)\n",
    "\n",
    "# Get the output text only\n",
    "print(output['choices'][0]['message']['content'])"
   ]
  }
 ],
 "metadata": {
  "kernelspec": {
   "display_name": "Python 3 (ipykernel)",
   "language": "python",
   "name": "python3"
  },
  "language_info": {
   "codemirror_mode": {
    "name": "ipython",
    "version": 3
   },
   "file_extension": ".py",
   "mimetype": "text/x-python",
   "name": "python",
   "nbconvert_exporter": "python",
   "pygments_lexer": "ipython3",
   "version": "3.9.12"
  }
 },
 "nbformat": 4,
 "nbformat_minor": 5
}
